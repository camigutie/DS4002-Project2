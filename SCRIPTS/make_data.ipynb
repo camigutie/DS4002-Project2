{
 "cells": [
  {
   "cell_type": "code",
   "execution_count": 2,
   "metadata": {},
   "outputs": [],
   "source": [
    "import numpy as np\n",
    "import pandas as pd\n",
    "import matplotlib.pyplot as plt\n",
    "import seaborn as sns\n",
    "mdf = pd.read_excel('../DATA/DS4002P2_RawData.xlsx', sheet_name=2)\n",
    "mdf = mdf.set_index('observation_date')\n",
    "ydf = pd.read_excel('../DATA/DS4002P2_RawData.xlsx', sheet_name=1)\n",
    "ydf = ydf.set_index('observation_date')\n",
    "ydf = ydf.rename(columns={'HLTHSCPIBLEND_PC1':'hei'})\n",
    "mdf = mdf.rename(columns={'CPIAUCSL_PC1':'cpi', 'CPIMEDSL_PC1':'mcpi'})"
   ]
  },
  {
   "cell_type": "markdown",
   "metadata": {},
   "source": [
    "Align observation dates to make graphs"
   ]
  },
  {
   "cell_type": "code",
   "execution_count": 3,
   "metadata": {},
   "outputs": [],
   "source": [
    "df_hei = ydf[['hei']]"
   ]
  },
  {
   "cell_type": "code",
   "execution_count": 4,
   "metadata": {},
   "outputs": [],
   "source": [
    "df_cpis = mdf[['cpi','mcpi']].reset_index()"
   ]
  },
  {
   "cell_type": "code",
   "execution_count": 5,
   "metadata": {},
   "outputs": [],
   "source": [
    "df_hei = df_hei.resample(\"ME\").ffill().reset_index()"
   ]
  },
  {
   "cell_type": "code",
   "execution_count": 6,
   "metadata": {},
   "outputs": [],
   "source": [
    "df_cpis[\"observation_date\"] = pd.to_datetime(df_cpis[\"observation_date\"])\n",
    "df_hei[\"observation_date\"] = pd.to_datetime(df_hei[\"observation_date\"])"
   ]
  },
  {
   "cell_type": "code",
   "execution_count": null,
   "metadata": {},
   "outputs": [
    {
     "name": "stdout",
     "output_type": "stream",
     "text": [
      "    observation_date      hei\n",
      "0         2001-01-31  7.26577\n",
      "1         2001-02-28  7.26577\n",
      "2         2001-03-31  7.26577\n",
      "3         2001-04-30  7.26577\n",
      "4         2001-05-31  7.26577\n",
      "..               ...      ...\n",
      "236       2020-09-30  5.14923\n",
      "237       2020-10-31  5.14923\n",
      "238       2020-11-30  5.14923\n",
      "239       2020-12-31  5.14923\n",
      "240       2021-01-31  2.57550\n",
      "\n",
      "[241 rows x 2 columns]\n"
     ]
    }
   ],
   "source": [
    "missing_dates = df_hei[~df_hei[\"observation_date\"].isin(df_cpis[\"observation_date\"])]\n",
    "missing_dates"
   ]
  },
  {
   "cell_type": "code",
   "execution_count": 8,
   "metadata": {},
   "outputs": [
    {
     "name": "stdout",
     "output_type": "stream",
     "text": [
      "CPI Date Range: 2000-12-01 00:00:00 to 2025-01-01 00:00:00\n",
      "HEI Date Range: 2001-01-31 00:00:00 to 2021-01-31 00:00:00\n"
     ]
    }
   ],
   "source": [
    "print(\"CPI Date Range:\", df_cpis[\"observation_date\"].min(), \"to\", df_cpis[\"observation_date\"].max())\n",
    "print(\"HEI Date Range:\", df_hei[\"observation_date\"].min(), \"to\", df_hei[\"observation_date\"].max())"
   ]
  },
  {
   "cell_type": "code",
   "execution_count": 9,
   "metadata": {},
   "outputs": [],
   "source": [
    "df_cpis[\"observation_date\"] = pd.to_datetime(df_cpis[\"observation_date\"]) \n",
    "df_cpis[\"observation_date\"] = df_cpis[\"observation_date\"] + pd.offsets.MonthEnd(0) \n",
    "df_hei[\"observation_date\"] = pd.to_datetime(df_hei[\"observation_date\"])"
   ]
  },
  {
   "cell_type": "code",
   "execution_count": 10,
   "metadata": {},
   "outputs": [],
   "source": [
    "df = pd.merge(df_cpis, df_hei, how='left', on='observation_date')"
   ]
  },
  {
   "cell_type": "code",
   "execution_count": 12,
   "metadata": {},
   "outputs": [
    {
     "name": "stdout",
     "output_type": "stream",
     "text": [
      "Date Range: 2000-12-31 00:00:00 to 2025-01-31 00:00:00\n"
     ]
    }
   ],
   "source": [
    "print(\"Date Range:\", df[\"observation_date\"].min(), \"to\", df[\"observation_date\"].max())"
   ]
  },
  {
   "cell_type": "code",
   "execution_count": 11,
   "metadata": {},
   "outputs": [],
   "source": [
    "df.to_csv('../DATA/established.csv')"
   ]
  }
 ],
 "metadata": {
  "kernelspec": {
   "display_name": "myenv",
   "language": "python",
   "name": "python3"
  },
  "language_info": {
   "codemirror_mode": {
    "name": "ipython",
    "version": 3
   },
   "file_extension": ".py",
   "mimetype": "text/x-python",
   "name": "python",
   "nbconvert_exporter": "python",
   "pygments_lexer": "ipython3",
   "version": "3.9.18"
  }
 },
 "nbformat": 4,
 "nbformat_minor": 2
}
