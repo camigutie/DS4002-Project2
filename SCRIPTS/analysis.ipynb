{
  "cells": [
    {
      "cell_type": "code",
      "execution_count": 4,
      "metadata": {
        "id": "K2Wuya76QKlc"
      },
      "outputs": [],
      "source": [
        "import numpy as np\n",
        "import pandas as pd\n",
        "import matplotlib.pyplot as plt\n",
        "import seaborn as sns"
      ]
    },
    {
      "cell_type": "code",
      "execution_count": null,
      "metadata": {
        "colab": {
          "base_uri": "https://localhost:8080/"
        },
        "id": "DWYWOGnPQKlf",
        "outputId": "d16fdd03-96c0-4316-c97f-d7388f205d40"
      },
      "outputs": [
        {
          "name": "stdout",
          "output_type": "stream",
          "text": [
            "Cloning into 'DS4002-Project2'...\n",
            "remote: Enumerating objects: 74, done.\u001b[K\n",
            "remote: Counting objects: 100% (74/74), done.\u001b[K\n",
            "remote: Compressing objects: 100% (63/63), done.\u001b[K\n",
            "remote: Total 74 (delta 26), reused 28 (delta 6), pack-reused 0 (from 0)\u001b[K\n",
            "Receiving objects: 100% (74/74), 530.19 KiB | 14.33 MiB/s, done.\n",
            "Resolving deltas: 100% (26/26), done.\n"
          ]
        }
      ],
      "source": [
        "# !git clone https://github.com/camigutie/DS4002-Project2"
      ]
    },
    {
      "cell_type": "markdown",
      "metadata": {
        "id": "luq4OgZubixw"
      },
      "source": [
        "## Load Data\n",
        "\n"
      ]
    },
    {
      "cell_type": "code",
      "execution_count": 5,
      "metadata": {
        "colab": {
          "base_uri": "https://localhost:8080/",
          "height": 206
        },
        "id": "Au67eBaLbj4C",
        "outputId": "ea3ddcf4-a86b-4f84-ee0e-aef95a531792"
      },
      "outputs": [
        {
          "data": {
            "application/vnd.microsoft.datawrangler.viewer.v0+json": {
              "columns": [
                {
                  "name": "index",
                  "rawType": "int64",
                  "type": "integer"
                },
                {
                  "name": "Unnamed: 0",
                  "rawType": "int64",
                  "type": "integer"
                },
                {
                  "name": "observation_date",
                  "rawType": "object",
                  "type": "string"
                },
                {
                  "name": "cpi",
                  "rawType": "float64",
                  "type": "float"
                },
                {
                  "name": "mcpi",
                  "rawType": "float64",
                  "type": "float"
                },
                {
                  "name": "hei",
                  "rawType": "float64",
                  "type": "float"
                }
              ],
              "conversionMethod": "pd.DataFrame",
              "ref": "24d59ea4-a8ad-4c88-b9f0-4a085048c2bd",
              "rows": [
                [
                  "0",
                  "0",
                  "2000-12-31",
                  "3.43602",
                  "4.19772",
                  null
                ],
                [
                  "1",
                  "1",
                  "2001-01-31",
                  "3.7212",
                  "4.53834",
                  "7.26577"
                ],
                [
                  "2",
                  "2",
                  "2001-02-28",
                  "3.52941",
                  "4.60039",
                  "7.26577"
                ],
                [
                  "3",
                  "3",
                  "2001-03-31",
                  "2.98246",
                  "4.54016",
                  "7.26577"
                ],
                [
                  "4",
                  "4",
                  "2001-04-30",
                  "3.21826",
                  "4.64396",
                  "7.26577"
                ]
              ],
              "shape": {
                "columns": 5,
                "rows": 5
              }
            },
            "text/html": [
              "<div>\n",
              "<style scoped>\n",
              "    .dataframe tbody tr th:only-of-type {\n",
              "        vertical-align: middle;\n",
              "    }\n",
              "\n",
              "    .dataframe tbody tr th {\n",
              "        vertical-align: top;\n",
              "    }\n",
              "\n",
              "    .dataframe thead th {\n",
              "        text-align: right;\n",
              "    }\n",
              "</style>\n",
              "<table border=\"1\" class=\"dataframe\">\n",
              "  <thead>\n",
              "    <tr style=\"text-align: right;\">\n",
              "      <th></th>\n",
              "      <th>Unnamed: 0</th>\n",
              "      <th>observation_date</th>\n",
              "      <th>cpi</th>\n",
              "      <th>mcpi</th>\n",
              "      <th>hei</th>\n",
              "    </tr>\n",
              "  </thead>\n",
              "  <tbody>\n",
              "    <tr>\n",
              "      <th>0</th>\n",
              "      <td>0</td>\n",
              "      <td>2000-12-31</td>\n",
              "      <td>3.43602</td>\n",
              "      <td>4.19772</td>\n",
              "      <td>NaN</td>\n",
              "    </tr>\n",
              "    <tr>\n",
              "      <th>1</th>\n",
              "      <td>1</td>\n",
              "      <td>2001-01-31</td>\n",
              "      <td>3.72120</td>\n",
              "      <td>4.53834</td>\n",
              "      <td>7.26577</td>\n",
              "    </tr>\n",
              "    <tr>\n",
              "      <th>2</th>\n",
              "      <td>2</td>\n",
              "      <td>2001-02-28</td>\n",
              "      <td>3.52941</td>\n",
              "      <td>4.60039</td>\n",
              "      <td>7.26577</td>\n",
              "    </tr>\n",
              "    <tr>\n",
              "      <th>3</th>\n",
              "      <td>3</td>\n",
              "      <td>2001-03-31</td>\n",
              "      <td>2.98246</td>\n",
              "      <td>4.54016</td>\n",
              "      <td>7.26577</td>\n",
              "    </tr>\n",
              "    <tr>\n",
              "      <th>4</th>\n",
              "      <td>4</td>\n",
              "      <td>2001-04-30</td>\n",
              "      <td>3.21826</td>\n",
              "      <td>4.64396</td>\n",
              "      <td>7.26577</td>\n",
              "    </tr>\n",
              "  </tbody>\n",
              "</table>\n",
              "</div>"
            ],
            "text/plain": [
              "   Unnamed: 0 observation_date      cpi     mcpi      hei\n",
              "0           0       2000-12-31  3.43602  4.19772      NaN\n",
              "1           1       2001-01-31  3.72120  4.53834  7.26577\n",
              "2           2       2001-02-28  3.52941  4.60039  7.26577\n",
              "3           3       2001-03-31  2.98246  4.54016  7.26577\n",
              "4           4       2001-04-30  3.21826  4.64396  7.26577"
            ]
          },
          "metadata": {},
          "output_type": "display_data"
        }
      ],
      "source": [
        "import pandas as pd\n",
        "df = pd.read_csv('../DATA/established.csv')\n",
        "display(df.head())"
      ]
    },
    {
      "cell_type": "markdown",
      "metadata": {
        "id": "Hbe9pqpHbnbU"
      },
      "source": [
        "## Data Exploration"
      ]
    },
    {
      "cell_type": "code",
      "execution_count": 6,
      "metadata": {
        "colab": {
          "base_uri": "https://localhost:8080/",
          "height": 550
        },
        "id": "77NKcqsqboe1",
        "outputId": "a2535dd2-1f9d-48bc-9e32-0e97704e270d"
      },
      "outputs": [
        {
          "name": "stdout",
          "output_type": "stream",
          "text": [
            "DataFrame shape: (290, 5)\n",
            "\n",
            "Missing values in relevant columns:\n",
            " observation_date     0\n",
            "cpi                  0\n",
            "mcpi                 0\n",
            "hei                 49\n",
            "dtype: int64\n",
            "\n",
            "Time range:\n",
            "Minimum date: 2000-12-31 00:00:00\n",
            "Maximum date: 2025-01-31 00:00:00\n",
            "\n",
            "Summary statistics for numerical columns:\n"
          ]
        },
        {
          "data": {
            "application/vnd.microsoft.datawrangler.viewer.v0+json": {
              "columns": [
                {
                  "name": "index",
                  "rawType": "object",
                  "type": "string"
                },
                {
                  "name": "cpi",
                  "rawType": "float64",
                  "type": "float"
                },
                {
                  "name": "mcpi",
                  "rawType": "float64",
                  "type": "float"
                },
                {
                  "name": "hei",
                  "rawType": "float64",
                  "type": "float"
                }
              ],
              "conversionMethod": "pd.DataFrame",
              "ref": "6c32c269-0b4a-4170-a079-8997928d07ab",
              "rows": [
                [
                  "count",
                  "290.0",
                  "290.0",
                  "241.0"
                ],
                [
                  "mean",
                  "2.5508873103448275",
                  "3.274017068965517",
                  "3.316214190871369"
                ],
                [
                  "std",
                  "1.7865956095784683",
                  "1.2203346550747873",
                  "1.624990969894228"
                ],
                [
                  "min",
                  "-1.95876",
                  "-1.42339",
                  "0.82731"
                ],
                [
                  "25%",
                  "1.55092",
                  "2.5454075",
                  "2.20769"
                ],
                [
                  "50%",
                  "2.234795",
                  "3.3875",
                  "2.88"
                ],
                [
                  "75%",
                  "3.2446225",
                  "4.2429525",
                  "4.66267"
                ],
                [
                  "max",
                  "8.9993",
                  "5.99126",
                  "7.26577"
                ]
              ],
              "shape": {
                "columns": 3,
                "rows": 8
              }
            },
            "text/html": [
              "<div>\n",
              "<style scoped>\n",
              "    .dataframe tbody tr th:only-of-type {\n",
              "        vertical-align: middle;\n",
              "    }\n",
              "\n",
              "    .dataframe tbody tr th {\n",
              "        vertical-align: top;\n",
              "    }\n",
              "\n",
              "    .dataframe thead th {\n",
              "        text-align: right;\n",
              "    }\n",
              "</style>\n",
              "<table border=\"1\" class=\"dataframe\">\n",
              "  <thead>\n",
              "    <tr style=\"text-align: right;\">\n",
              "      <th></th>\n",
              "      <th>cpi</th>\n",
              "      <th>mcpi</th>\n",
              "      <th>hei</th>\n",
              "    </tr>\n",
              "  </thead>\n",
              "  <tbody>\n",
              "    <tr>\n",
              "      <th>count</th>\n",
              "      <td>290.000000</td>\n",
              "      <td>290.000000</td>\n",
              "      <td>241.000000</td>\n",
              "    </tr>\n",
              "    <tr>\n",
              "      <th>mean</th>\n",
              "      <td>2.550887</td>\n",
              "      <td>3.274017</td>\n",
              "      <td>3.316214</td>\n",
              "    </tr>\n",
              "    <tr>\n",
              "      <th>std</th>\n",
              "      <td>1.786596</td>\n",
              "      <td>1.220335</td>\n",
              "      <td>1.624991</td>\n",
              "    </tr>\n",
              "    <tr>\n",
              "      <th>min</th>\n",
              "      <td>-1.958760</td>\n",
              "      <td>-1.423390</td>\n",
              "      <td>0.827310</td>\n",
              "    </tr>\n",
              "    <tr>\n",
              "      <th>25%</th>\n",
              "      <td>1.550920</td>\n",
              "      <td>2.545408</td>\n",
              "      <td>2.207690</td>\n",
              "    </tr>\n",
              "    <tr>\n",
              "      <th>50%</th>\n",
              "      <td>2.234795</td>\n",
              "      <td>3.387500</td>\n",
              "      <td>2.880000</td>\n",
              "    </tr>\n",
              "    <tr>\n",
              "      <th>75%</th>\n",
              "      <td>3.244623</td>\n",
              "      <td>4.242953</td>\n",
              "      <td>4.662670</td>\n",
              "    </tr>\n",
              "    <tr>\n",
              "      <th>max</th>\n",
              "      <td>8.999300</td>\n",
              "      <td>5.991260</td>\n",
              "      <td>7.265770</td>\n",
              "    </tr>\n",
              "  </tbody>\n",
              "</table>\n",
              "</div>"
            ],
            "text/plain": [
              "              cpi        mcpi         hei\n",
              "count  290.000000  290.000000  241.000000\n",
              "mean     2.550887    3.274017    3.316214\n",
              "std      1.786596    1.220335    1.624991\n",
              "min     -1.958760   -1.423390    0.827310\n",
              "25%      1.550920    2.545408    2.207690\n",
              "50%      2.234795    3.387500    2.880000\n",
              "75%      3.244623    4.242953    4.662670\n",
              "max      8.999300    5.991260    7.265770"
            ]
          },
          "metadata": {},
          "output_type": "display_data"
        }
      ],
      "source": [
        "relevant_cols = ['observation_date', 'cpi', 'mcpi', 'hei']\n",
        "\n",
        "# Convert 'observation_date'\n",
        "if not pd.api.types.is_datetime64_any_dtype(df['observation_date']):\n",
        "    df['observation_date'] = pd.to_datetime(df['observation_date'])\n",
        "\n",
        "# Check for missing values\n",
        "print(\"DataFrame shape:\", df.shape)\n",
        "print(\"\\nMissing values in relevant columns:\\n\", df[relevant_cols].isnull().sum())\n",
        "\n",
        "# Confirm time range\n",
        "print(\"\\nTime range:\")\n",
        "print(\"Minimum date:\", df['observation_date'].min())\n",
        "print(\"Maximum date:\", df['observation_date'].max())\n",
        "\n",
        "# Summary statistics\n",
        "print(\"\\nSummary statistics for numerical columns:\")\n",
        "display(df[['cpi', 'mcpi', 'hei']].describe())"
      ]
    },
    {
      "cell_type": "markdown",
      "metadata": {
        "id": "m2CXG8XCbrir"
      },
      "source": [
        "## Data preparation"
      ]
    },
    {
      "cell_type": "code",
      "execution_count": 7,
      "metadata": {
        "colab": {
          "base_uri": "https://localhost:8080/",
          "height": 351
        },
        "id": "L5H_zi5cbsq6",
        "outputId": "316fd6ff-79d8-4f71-e53e-6b9179ea66a2"
      },
      "outputs": [
        {
          "name": "stderr",
          "output_type": "stream",
          "text": [
            "/var/folders/ll/gtcbtj4n6mjf4mwvq3711yw40000gn/T/ipykernel_3563/940853526.py:2: FutureWarning: A value is trying to be set on a copy of a DataFrame or Series through chained assignment using an inplace method.\n",
            "The behavior will change in pandas 3.0. This inplace method will never work because the intermediate object on which we are setting values always behaves as a copy.\n",
            "\n",
            "For example, when doing 'df[col].method(value, inplace=True)', try using 'df.method({col: value}, inplace=True)' or df[col] = df[col].method(value) instead, to perform the operation inplace on the original object.\n",
            "\n",
            "\n",
            "  df['hei'].fillna(df['hei'].mean(), inplace=True)\n"
          ]
        },
        {
          "data": {
            "application/vnd.microsoft.datawrangler.viewer.v0+json": {
              "columns": [
                {
                  "name": "index",
                  "rawType": "int64",
                  "type": "integer"
                },
                {
                  "name": "Unnamed: 0",
                  "rawType": "int64",
                  "type": "integer"
                },
                {
                  "name": "observation_date",
                  "rawType": "datetime64[ns]",
                  "type": "datetime"
                },
                {
                  "name": "cpi",
                  "rawType": "float64",
                  "type": "float"
                },
                {
                  "name": "mcpi",
                  "rawType": "float64",
                  "type": "float"
                },
                {
                  "name": "hei",
                  "rawType": "float64",
                  "type": "float"
                }
              ],
              "conversionMethod": "pd.DataFrame",
              "ref": "371daf0c-4bac-46a3-a82e-c1fb90bf1001",
              "rows": [
                [
                  "0",
                  "0",
                  "2000-12-31 00:00:00",
                  "3.43602",
                  "4.19772",
                  "3.316214190871369"
                ],
                [
                  "1",
                  "1",
                  "2001-01-31 00:00:00",
                  "3.7212",
                  "4.53834",
                  "7.26577"
                ],
                [
                  "2",
                  "2",
                  "2001-02-28 00:00:00",
                  "3.52941",
                  "4.60039",
                  "7.26577"
                ],
                [
                  "3",
                  "3",
                  "2001-03-31 00:00:00",
                  "2.98246",
                  "4.54016",
                  "7.26577"
                ],
                [
                  "4",
                  "4",
                  "2001-04-30 00:00:00",
                  "3.21826",
                  "4.64396",
                  "7.26577"
                ]
              ],
              "shape": {
                "columns": 5,
                "rows": 5
              }
            },
            "text/html": [
              "<div>\n",
              "<style scoped>\n",
              "    .dataframe tbody tr th:only-of-type {\n",
              "        vertical-align: middle;\n",
              "    }\n",
              "\n",
              "    .dataframe tbody tr th {\n",
              "        vertical-align: top;\n",
              "    }\n",
              "\n",
              "    .dataframe thead th {\n",
              "        text-align: right;\n",
              "    }\n",
              "</style>\n",
              "<table border=\"1\" class=\"dataframe\">\n",
              "  <thead>\n",
              "    <tr style=\"text-align: right;\">\n",
              "      <th></th>\n",
              "      <th>Unnamed: 0</th>\n",
              "      <th>observation_date</th>\n",
              "      <th>cpi</th>\n",
              "      <th>mcpi</th>\n",
              "      <th>hei</th>\n",
              "    </tr>\n",
              "  </thead>\n",
              "  <tbody>\n",
              "    <tr>\n",
              "      <th>0</th>\n",
              "      <td>0</td>\n",
              "      <td>2000-12-31</td>\n",
              "      <td>3.43602</td>\n",
              "      <td>4.19772</td>\n",
              "      <td>3.316214</td>\n",
              "    </tr>\n",
              "    <tr>\n",
              "      <th>1</th>\n",
              "      <td>1</td>\n",
              "      <td>2001-01-31</td>\n",
              "      <td>3.72120</td>\n",
              "      <td>4.53834</td>\n",
              "      <td>7.265770</td>\n",
              "    </tr>\n",
              "    <tr>\n",
              "      <th>2</th>\n",
              "      <td>2</td>\n",
              "      <td>2001-02-28</td>\n",
              "      <td>3.52941</td>\n",
              "      <td>4.60039</td>\n",
              "      <td>7.265770</td>\n",
              "    </tr>\n",
              "    <tr>\n",
              "      <th>3</th>\n",
              "      <td>3</td>\n",
              "      <td>2001-03-31</td>\n",
              "      <td>2.98246</td>\n",
              "      <td>4.54016</td>\n",
              "      <td>7.265770</td>\n",
              "    </tr>\n",
              "    <tr>\n",
              "      <th>4</th>\n",
              "      <td>4</td>\n",
              "      <td>2001-04-30</td>\n",
              "      <td>3.21826</td>\n",
              "      <td>4.64396</td>\n",
              "      <td>7.265770</td>\n",
              "    </tr>\n",
              "  </tbody>\n",
              "</table>\n",
              "</div>"
            ],
            "text/plain": [
              "   Unnamed: 0 observation_date      cpi     mcpi       hei\n",
              "0           0       2000-12-31  3.43602  4.19772  3.316214\n",
              "1           1       2001-01-31  3.72120  4.53834  7.265770\n",
              "2           2       2001-02-28  3.52941  4.60039  7.265770\n",
              "3           3       2001-03-31  2.98246  4.54016  7.265770\n",
              "4           4       2001-04-30  3.21826  4.64396  7.265770"
            ]
          },
          "metadata": {},
          "output_type": "display_data"
        }
      ],
      "source": [
        "# Fill missing 'hei' values with the mean\n",
        "df['hei'].fillna(df['hei'].mean(), inplace=True)\n",
        "\n",
        "display(df.head())"
      ]
    },
    {
      "cell_type": "markdown",
      "metadata": {
        "id": "0uNnKYK9buNJ"
      },
      "source": [
        "**Reasoning**:\n",
        "I need to fix the warning from the previous code block and complete the subtask.\n",
        "\n"
      ]
    },
    {
      "cell_type": "markdown",
      "metadata": {
        "id": "QS5SZyV7bx0h"
      },
      "source": [
        "## Pearson Correlation Coefficients\n",
        "\n",
        "##### Calculate the Pearson correlation coefficients between CPI variables.\n"
      ]
    },
    {
      "cell_type": "code",
      "execution_count": 8,
      "metadata": {
        "colab": {
          "base_uri": "https://localhost:8080/"
        },
        "id": "fdAnNsOXby2U",
        "outputId": "227d6179-6ea5-4147-a6cb-34d3bf4e711e"
      },
      "outputs": [
        {
          "name": "stdout",
          "output_type": "stream",
          "text": [
            "Correlation between CPI and Medical Care CPI: 0.012486224324373636\n",
            "Correlation between Health Expenditures Price Index and CPI: 0.08205895858575578\n",
            "Correlation between Health Expenditures Price Index and Medical Care CPI: 0.2804050104961945\n"
          ]
        }
      ],
      "source": [
        "# Calculate Pearson correlation coefficients\n",
        "correlation_cpi_mcpi = df['cpi'].corr(df['mcpi'])\n",
        "correlation_hei_cpi = df['hei'].corr(df['cpi'])\n",
        "correlation_hei_mcpi = df['hei'].corr(df['mcpi'])\n",
        "\n",
        "# Print the correlation coefficients\n",
        "print(f\"Correlation between CPI and Medical Care CPI: {correlation_cpi_mcpi}\")\n",
        "print(f\"Correlation between Health Expenditures Price Index and CPI: {correlation_hei_cpi}\")\n",
        "print(f\"Correlation between Health Expenditures Price Index and Medical Care CPI: {correlation_hei_mcpi}\")"
      ]
    },
    {
      "cell_type": "markdown",
      "metadata": {
        "id": "fSaT10YGb2gh"
      },
      "source": [
        "# Linear Regression Model\n",
        "\n",
        "## 1) Split Data\n",
        "Training and testing sets for the linear regression model\n"
      ]
    },
    {
      "cell_type": "code",
      "execution_count": 9,
      "metadata": {
        "id": "7NlcT_Svb3it"
      },
      "outputs": [],
      "source": [
        "from sklearn.model_selection import train_test_split\n",
        "\n",
        "# Linear Regression Data Splitting\n",
        "X = df[['hei']]\n",
        "y = df['mcpi']\n",
        "X_train, X_test, y_train, y_test = train_test_split(X, y, test_size=0.2, random_state=42)\n",
        "\n",
        "# SARIMA Data Preparation\n",
        "df_sarima = df[['observation_date', 'cpi', 'mcpi']].copy()\n",
        "df_sarima['observation_date'] = pd.to_datetime(df_sarima['observation_date'])\n",
        "df_sarima = df_sarima.set_index('observation_date')"
      ]
    },
    {
      "cell_type": "markdown",
      "metadata": {
        "id": "0e_b_OLeb7QZ"
      },
      "source": [
        "## 2) Model training\n",
        "\n",
        "Train a linear regression model to predit Medical Care CPI based on the Health Expenditures Price Index.\n"
      ]
    },
    {
      "cell_type": "code",
      "execution_count": 10,
      "metadata": {
        "id": "DJvLIP6Jb8WN"
      },
      "outputs": [],
      "source": [
        "from sklearn.linear_model import LinearRegression\n",
        "\n",
        "model = LinearRegression()\n",
        "\n",
        "# Train\n",
        "model.fit(X_train, y_train)\n",
        "\n",
        "# Predict on test data\n",
        "y_pred = model.predict(X_test)"
      ]
    },
    {
      "cell_type": "markdown",
      "metadata": {
        "id": "7b-RElnBb_bN"
      },
      "source": [
        "## 3) Model evaluation\n",
        "\n",
        "##### Evaluate the performance of the trained linear regression model using R-squared, RMSE, and MAE. .\n"
      ]
    },
    {
      "cell_type": "code",
      "execution_count": 11,
      "metadata": {
        "colab": {
          "base_uri": "https://localhost:8080/"
        },
        "id": "pZHAXqSocCGC",
        "outputId": "4d0349c6-6836-44a8-d143-5f1c49b9dac9"
      },
      "outputs": [
        {
          "name": "stdout",
          "output_type": "stream",
          "text": [
            "R-squared: 0.01950253221303533\n",
            "Root Mean Squared Error (RMSE): 1.3308023738193449\n",
            "Mean Absolute Error (MAE): 0.964336795215285\n",
            "Model Coefficients: [0.2431609]\n",
            "Model Intercept: 2.490571563273336\n"
          ]
        }
      ],
      "source": [
        "from sklearn.metrics import r2_score, mean_squared_error, mean_absolute_error\n",
        "import numpy as np\n",
        "\n",
        "# Evaluate the model\n",
        "r2 = r2_score(y_test, y_pred)\n",
        "mse = mean_squared_error(y_test, y_pred)\n",
        "rmse = np.sqrt(mse)\n",
        "mae = mean_absolute_error(y_test, y_pred)\n",
        "\n",
        "# Print the evaluation metrics\n",
        "print(f\"R-squared: {r2}\")\n",
        "print(f\"Root Mean Squared Error (RMSE): {rmse}\")\n",
        "print(f\"Mean Absolute Error (MAE): {mae}\")\n",
        "\n",
        "# Print the model's coefficients and intercept\n",
        "print(f\"Model Coefficients: {model.coef_}\")\n",
        "print(f\"Model Intercept: {model.intercept_}\")"
      ]
    },
    {
      "cell_type": "markdown",
      "metadata": {
        "id": "y142OhGOcGZG"
      },
      "source": [
        "# Trend Forecasting\n",
        "\n",
        "##### Train SARIMA models for Headline CPI (cpi) and Medical Care CPI ('mcpi'). We will use pmdarima to automatically find the optimal parameters for the model\n"
      ]
    },
    {
      "cell_type": "code",
      "execution_count": 12,
      "metadata": {
        "colab": {
          "base_uri": "https://localhost:8080/"
        },
        "id": "pVJfft0-cJUS",
        "outputId": "163ff5fd-15f0-474d-b025-1c4a587382a2"
      },
      "outputs": [
        {
          "name": "stdout",
          "output_type": "stream",
          "text": [
            "Collecting pmdarima\n",
            "  Downloading pmdarima-2.0.4-cp39-cp39-macosx_11_0_arm64.whl.metadata (7.8 kB)\n",
            "Requirement already satisfied: joblib>=0.11 in /opt/anaconda3/envs/myenv/lib/python3.9/site-packages (from pmdarima) (1.4.2)\n",
            "Collecting Cython!=0.29.18,!=0.29.31,>=0.29 (from pmdarima)\n",
            "  Downloading Cython-3.0.12-py2.py3-none-any.whl.metadata (3.3 kB)\n",
            "Requirement already satisfied: numpy>=1.21.2 in /opt/anaconda3/envs/myenv/lib/python3.9/site-packages (from pmdarima) (1.23.5)\n",
            "Requirement already satisfied: pandas>=0.19 in /opt/anaconda3/envs/myenv/lib/python3.9/site-packages (from pmdarima) (2.2.2)\n",
            "Requirement already satisfied: scikit-learn>=0.22 in /opt/anaconda3/envs/myenv/lib/python3.9/site-packages (from pmdarima) (1.5.1)\n",
            "Requirement already satisfied: scipy>=1.3.2 in /opt/anaconda3/envs/myenv/lib/python3.9/site-packages (from pmdarima) (1.13.1)\n",
            "Collecting statsmodels>=0.13.2 (from pmdarima)\n",
            "  Downloading statsmodels-0.14.4-cp39-cp39-macosx_11_0_arm64.whl.metadata (9.2 kB)\n",
            "Requirement already satisfied: urllib3 in /opt/anaconda3/envs/myenv/lib/python3.9/site-packages (from pmdarima) (2.2.3)\n",
            "Requirement already satisfied: setuptools!=50.0.0,>=38.6.0 in /opt/anaconda3/envs/myenv/lib/python3.9/site-packages (from pmdarima) (75.1.0)\n",
            "Requirement already satisfied: packaging>=17.1 in /opt/anaconda3/envs/myenv/lib/python3.9/site-packages (from pmdarima) (24.1)\n",
            "Requirement already satisfied: python-dateutil>=2.8.2 in /opt/anaconda3/envs/myenv/lib/python3.9/site-packages (from pandas>=0.19->pmdarima) (2.9.0.post0)\n",
            "Requirement already satisfied: pytz>=2020.1 in /opt/anaconda3/envs/myenv/lib/python3.9/site-packages (from pandas>=0.19->pmdarima) (2024.1)\n",
            "Requirement already satisfied: tzdata>=2022.7 in /opt/anaconda3/envs/myenv/lib/python3.9/site-packages (from pandas>=0.19->pmdarima) (2023.3)\n",
            "Requirement already satisfied: threadpoolctl>=3.1.0 in /opt/anaconda3/envs/myenv/lib/python3.9/site-packages (from scikit-learn>=0.22->pmdarima) (3.5.0)\n",
            "Collecting patsy>=0.5.6 (from statsmodels>=0.13.2->pmdarima)\n",
            "  Downloading patsy-1.0.1-py2.py3-none-any.whl.metadata (3.3 kB)\n",
            "Requirement already satisfied: six>=1.5 in /opt/anaconda3/envs/myenv/lib/python3.9/site-packages (from python-dateutil>=2.8.2->pandas>=0.19->pmdarima) (1.16.0)\n",
            "Downloading pmdarima-2.0.4-cp39-cp39-macosx_11_0_arm64.whl (630 kB)\n",
            "\u001b[2K   \u001b[90m━━━━━━━━━━━━━━━━━━━━━━━━━━━━━━━━━━━━━━━━\u001b[0m \u001b[32m630.4/630.4 kB\u001b[0m \u001b[31m11.8 MB/s\u001b[0m eta \u001b[36m0:00:00\u001b[0m\n",
            "\u001b[?25hDownloading Cython-3.0.12-py2.py3-none-any.whl (1.2 MB)\n",
            "\u001b[2K   \u001b[90m━━━━━━━━━━━━━━━━━━━━━━━━━━━━━━━━━━━━━━━━\u001b[0m \u001b[32m1.2/1.2 MB\u001b[0m \u001b[31m20.2 MB/s\u001b[0m eta \u001b[36m0:00:00\u001b[0m\n",
            "\u001b[?25hDownloading statsmodels-0.14.4-cp39-cp39-macosx_11_0_arm64.whl (9.9 MB)\n",
            "\u001b[2K   \u001b[90m━━━━━━━━━━━━━━━━━━━━━━━━━━━━━━━━━━━━━━━━\u001b[0m \u001b[32m9.9/9.9 MB\u001b[0m \u001b[31m18.8 MB/s\u001b[0m eta \u001b[36m0:00:00\u001b[0ma \u001b[36m0:00:01\u001b[0m\n",
            "\u001b[?25hDownloading patsy-1.0.1-py2.py3-none-any.whl (232 kB)\n",
            "Installing collected packages: patsy, Cython, statsmodels, pmdarima\n",
            "Successfully installed Cython-3.0.12 patsy-1.0.1 pmdarima-2.0.4 statsmodels-0.14.4\n"
          ]
        }
      ],
      "source": [
        "!pip install pmdarima"
      ]
    },
    {
      "cell_type": "code",
      "execution_count": 13,
      "metadata": {
        "colab": {
          "base_uri": "https://localhost:8080/"
        },
        "id": "xYXT1aiDcL4V",
        "outputId": "e5a155e0-3f69-4c3f-975d-cb52bca03fd6"
      },
      "outputs": [
        {
          "name": "stdout",
          "output_type": "stream",
          "text": [
            "Performing stepwise search to minimize aic\n",
            " ARIMA(0,1,0)(1,0,1)[12] intercept   : AIC=inf, Time=0.45 sec\n",
            " ARIMA(0,1,0)(0,0,0)[12] intercept   : AIC=375.288, Time=0.02 sec\n",
            " ARIMA(1,1,0)(1,0,0)[12] intercept   : AIC=228.887, Time=0.24 sec\n",
            " ARIMA(0,1,1)(0,0,1)[12] intercept   : AIC=inf, Time=0.49 sec\n",
            " ARIMA(0,1,0)(0,0,0)[12]             : AIC=373.291, Time=0.03 sec\n",
            " ARIMA(1,1,0)(0,0,0)[12] intercept   : AIC=315.294, Time=0.03 sec\n",
            " ARIMA(1,1,0)(2,0,0)[12] intercept   : AIC=178.201, Time=0.86 sec\n",
            " ARIMA(1,1,0)(2,0,1)[12] intercept   : AIC=inf, Time=1.38 sec\n",
            " ARIMA(1,1,0)(1,0,1)[12] intercept   : AIC=inf, Time=0.74 sec\n",
            " ARIMA(0,1,0)(2,0,0)[12] intercept   : AIC=249.571, Time=0.37 sec\n",
            " ARIMA(2,1,0)(2,0,0)[12] intercept   : AIC=170.293, Time=0.84 sec\n",
            " ARIMA(2,1,0)(1,0,0)[12] intercept   : AIC=216.785, Time=0.40 sec\n",
            " ARIMA(2,1,0)(2,0,1)[12] intercept   : AIC=inf, Time=2.04 sec\n",
            " ARIMA(2,1,0)(1,0,1)[12] intercept   : AIC=inf, Time=0.56 sec\n",
            " ARIMA(3,1,0)(2,0,0)[12] intercept   : AIC=165.918, Time=0.51 sec\n",
            " ARIMA(3,1,0)(1,0,0)[12] intercept   : AIC=212.253, Time=0.25 sec\n",
            " ARIMA(3,1,0)(2,0,1)[12] intercept   : AIC=inf, Time=2.19 sec\n",
            " ARIMA(3,1,0)(1,0,1)[12] intercept   : AIC=inf, Time=1.32 sec\n",
            " ARIMA(4,1,0)(2,0,0)[12] intercept   : AIC=166.986, Time=1.04 sec\n",
            " ARIMA(3,1,1)(2,0,0)[12] intercept   : AIC=167.345, Time=1.22 sec\n",
            " ARIMA(2,1,1)(2,0,0)[12] intercept   : AIC=169.079, Time=0.85 sec\n",
            " ARIMA(4,1,1)(2,0,0)[12] intercept   : AIC=168.571, Time=1.44 sec\n",
            " ARIMA(3,1,0)(2,0,0)[12]             : AIC=163.965, Time=0.26 sec\n",
            " ARIMA(3,1,0)(1,0,0)[12]             : AIC=210.254, Time=0.23 sec\n",
            " ARIMA(3,1,0)(2,0,1)[12]             : AIC=inf, Time=1.30 sec\n",
            " ARIMA(3,1,0)(1,0,1)[12]             : AIC=inf, Time=0.48 sec\n",
            " ARIMA(2,1,0)(2,0,0)[12]             : AIC=168.368, Time=0.17 sec\n",
            " ARIMA(4,1,0)(2,0,0)[12]             : AIC=165.025, Time=0.31 sec\n",
            " ARIMA(3,1,1)(2,0,0)[12]             : AIC=165.385, Time=0.52 sec\n",
            " ARIMA(2,1,1)(2,0,0)[12]             : AIC=167.145, Time=0.37 sec\n",
            " ARIMA(4,1,1)(2,0,0)[12]             : AIC=166.611, Time=0.85 sec\n",
            "\n",
            "Best model:  ARIMA(3,1,0)(2,0,0)[12]          \n",
            "Total fit time: 21.762 seconds\n",
            "Performing stepwise search to minimize aic\n",
            " ARIMA(0,1,0)(1,0,1)[12] intercept   : AIC=inf, Time=0.42 sec\n",
            " ARIMA(0,1,0)(0,0,0)[12] intercept   : AIC=174.641, Time=0.05 sec\n",
            " ARIMA(1,1,0)(1,0,0)[12] intercept   : AIC=17.412, Time=0.13 sec\n",
            " ARIMA(0,1,1)(0,0,1)[12] intercept   : AIC=inf, Time=0.51 sec\n",
            " ARIMA(0,1,0)(0,0,0)[12]             : AIC=172.721, Time=0.02 sec\n",
            " ARIMA(1,1,0)(0,0,0)[12] intercept   : AIC=126.278, Time=0.02 sec\n",
            " ARIMA(1,1,0)(2,0,0)[12] intercept   : AIC=-25.349, Time=0.45 sec\n",
            " ARIMA(1,1,0)(2,0,1)[12] intercept   : AIC=inf, Time=1.10 sec\n",
            " ARIMA(1,1,0)(1,0,1)[12] intercept   : AIC=inf, Time=0.46 sec\n",
            " ARIMA(0,1,0)(2,0,0)[12] intercept   : AIC=1.235, Time=0.28 sec\n",
            " ARIMA(2,1,0)(2,0,0)[12] intercept   : AIC=-24.729, Time=0.48 sec\n",
            " ARIMA(1,1,1)(2,0,0)[12] intercept   : AIC=-26.329, Time=0.66 sec\n",
            " ARIMA(1,1,1)(1,0,0)[12] intercept   : AIC=17.578, Time=0.19 sec\n",
            " ARIMA(1,1,1)(2,0,1)[12] intercept   : AIC=inf, Time=1.13 sec\n",
            " ARIMA(1,1,1)(1,0,1)[12] intercept   : AIC=inf, Time=0.52 sec\n",
            " ARIMA(0,1,1)(2,0,0)[12] intercept   : AIC=-27.980, Time=0.45 sec\n",
            " ARIMA(0,1,1)(1,0,0)[12] intercept   : AIC=16.297, Time=0.16 sec\n",
            " ARIMA(0,1,1)(2,0,1)[12] intercept   : AIC=inf, Time=1.53 sec\n",
            " ARIMA(0,1,1)(1,0,1)[12] intercept   : AIC=inf, Time=0.60 sec\n",
            " ARIMA(0,1,2)(2,0,0)[12] intercept   : AIC=-26.116, Time=0.55 sec\n",
            " ARIMA(1,1,2)(2,0,0)[12] intercept   : AIC=-24.169, Time=1.25 sec\n",
            " ARIMA(0,1,1)(2,0,0)[12]             : AIC=-28.832, Time=0.31 sec\n",
            " ARIMA(0,1,1)(1,0,0)[12]             : AIC=14.698, Time=0.11 sec\n",
            " ARIMA(0,1,1)(2,0,1)[12]             : AIC=-89.397, Time=0.57 sec\n",
            " ARIMA(0,1,1)(1,0,1)[12]             : AIC=-87.878, Time=0.22 sec\n",
            " ARIMA(0,1,1)(2,0,2)[12]             : AIC=-90.710, Time=1.37 sec\n",
            " ARIMA(0,1,1)(1,0,2)[12]             : AIC=-92.463, Time=0.94 sec\n",
            " ARIMA(0,1,1)(0,0,2)[12]             : AIC=-92.129, Time=0.48 sec\n",
            " ARIMA(0,1,1)(0,0,1)[12]             : AIC=inf, Time=0.17 sec\n",
            " ARIMA(0,1,0)(1,0,2)[12]             : AIC=-68.481, Time=0.61 sec\n",
            " ARIMA(1,1,1)(1,0,2)[12]             : AIC=inf, Time=1.47 sec\n",
            " ARIMA(0,1,2)(1,0,2)[12]             : AIC=-91.026, Time=1.48 sec\n",
            " ARIMA(1,1,0)(1,0,2)[12]             : AIC=inf, Time=0.96 sec\n",
            " ARIMA(1,1,2)(1,0,2)[12]             : AIC=inf, Time=1.66 sec\n",
            " ARIMA(0,1,1)(1,0,2)[12] intercept   : AIC=inf, Time=2.05 sec\n",
            "\n",
            "Best model:  ARIMA(0,1,1)(1,0,2)[12]          \n",
            "Total fit time: 23.390 seconds\n"
          ]
        }
      ],
      "source": [
        "import pmdarima as pm\n",
        "from statsmodels.tsa.statespace.sarimax import SARIMAX\n",
        "\n",
        "# Train SARIMA model for 'cpi'\n",
        "sarima_cpi_model = pm.auto_arima(df_sarima['cpi'],\n",
        "                                 seasonal=True, m=12,\n",
        "                                 start_p=0, start_q=0,\n",
        "                                 max_p=5, max_q=5,\n",
        "                                 max_d=2, max_D=2,\n",
        "                                 trace=True,\n",
        "                                 error_action='ignore',\n",
        "                                 suppress_warnings=True,\n",
        "                                 stepwise=True)\n",
        "\n",
        "# Train SARIMA model for 'mcpi'\n",
        "sarima_mcpi_model = pm.auto_arima(df_sarima['mcpi'],\n",
        "                                  seasonal=True, m=12,\n",
        "                                  start_p=0, start_q=0,\n",
        "                                  max_p=5, max_q=5,\n",
        "                                  max_d=2, max_D=2,\n",
        "                                  trace=True,\n",
        "                                  error_action='ignore',\n",
        "                                  suppress_warnings=True,\n",
        "                                  stepwise=True)"
      ]
    },
    {
      "cell_type": "code",
      "execution_count": 14,
      "metadata": {
        "colab": {
          "base_uri": "https://localhost:8080/",
          "height": 727
        },
        "id": "y6KC1xsUnvF4",
        "outputId": "8ee74b66-e54a-4f7d-da4f-134c933306a0"
      },
      "outputs": [
        {
          "name": "stderr",
          "output_type": "stream",
          "text": [
            "/var/folders/ll/gtcbtj4n6mjf4mwvq3711yw40000gn/T/ipykernel_3563/1580335042.py:19: FutureWarning: Series.__getitem__ treating keys as positions is deprecated. In a future version, integer keys will always be treated as labels (consistent with DataFrame behavior). To access a value by position, use `ser.iloc[pos]`\n",
            "  plt.scatter(forecast_index_cpi[i-1], forecast_cpi[i-1], marker='o', color='red', label=f'{i/12} year forecast')\n",
            "/var/folders/ll/gtcbtj4n6mjf4mwvq3711yw40000gn/T/ipykernel_3563/1580335042.py:24: FutureWarning: Series.__getitem__ treating keys as positions is deprecated. In a future version, integer keys will always be treated as labels (consistent with DataFrame behavior). To access a value by position, use `ser.iloc[pos]`\n",
            "  plt.scatter(forecast_index_mcpi[i-1], forecast_mcpi[i-1], marker='o', color='green', label=f'{i/12} year forecast')\n"
          ]
        },
        {
          "data": {
            "image/png": "[encoded data removed]",
            "text/plain": [
              "<Figure size 1200x600 with 1 Axes>"
            ]
          },
          "metadata": {},
          "output_type": "display_data"
        }
      ],
      "source": [
        "# Trend Forecast: 1, 5, 10 years\n",
        "future_steps = [12, 60, 120]\n",
        "\n",
        "# Forecast CPI\n",
        "forecast_cpi = sarima_cpi_model.predict(n_periods=max(future_steps))\n",
        "forecast_index_cpi = pd.date_range(start=df_sarima.index[-1], periods=max(future_steps) + 1, freq='MS')[1:]\n",
        "\n",
        "# Forecast MCPI\n",
        "forecast_mcpi = sarima_mcpi_model.predict(n_periods=max(future_steps))\n",
        "forecast_index_mcpi = pd.date_range(start=df_sarima.index[-1], periods=max(future_steps) + 1, freq='MS')[1:]\n",
        "\n",
        "\n",
        "# Visualization\n",
        "plt.figure(figsize=(12, 6))\n",
        "\n",
        "plt.plot(df_sarima.index, df_sarima['cpi'], label='Actual CPI')\n",
        "plt.plot(forecast_index_cpi, forecast_cpi, label='Forecasted CPI')\n",
        "for i in future_steps:\n",
        "  plt.scatter(forecast_index_cpi[i-1], forecast_cpi[i-1], marker='o', color='red', label=f'{i/12} year forecast')\n",
        "\n",
        "plt.plot(df_sarima.index, df_sarima['mcpi'], label='Actual MCPI')\n",
        "plt.plot(forecast_index_mcpi, forecast_mcpi, label='Forecasted MCPI')\n",
        "for i in future_steps:\n",
        "  plt.scatter(forecast_index_mcpi[i-1], forecast_mcpi[i-1], marker='o', color='green', label=f'{i/12} year forecast')\n",
        "\n",
        "plt.xlabel('Date')\n",
        "plt.ylabel('Value')\n",
        "plt.title('CPI and MCPI Forecasts')\n",
        "plt.legend()\n",
        "plt.grid(True)\n",
        "plt.savefig('../OUTPUT/trends.png')\n",
        "plt.show()"
      ]
    }
  ],
  "metadata": {
    "colab": {
      "provenance": []
    },
    "kernelspec": {
      "display_name": "myenv",
      "language": "python",
      "name": "python3"
    },
    "language_info": {
      "codemirror_mode": {
        "name": "ipython",
        "version": 3
      },
      "file_extension": ".py",
      "mimetype": "text/x-python",
      "name": "python",
      "nbconvert_exporter": "python",
      "pygments_lexer": "ipython3",
      "version": "3.9.18"
    }
  },
  "nbformat": 4,
  "nbformat_minor": 0
}
